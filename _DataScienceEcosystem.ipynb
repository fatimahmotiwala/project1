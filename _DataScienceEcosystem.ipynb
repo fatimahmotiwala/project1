{
 "cells": [
  {
   "cell_type": "markdown",
   "id": "c8a9608b-248b-4ce8-9903-a26da26ccdbd",
   "metadata": {},
   "source": [
    "# Data Science Tools and Ecosystem"
   ]
  },
  {
   "cell_type": "markdown",
   "id": "eaeb2018-0851-41a3-a0ad-d4dc285eac3d",
   "metadata": {},
   "source": [
    "\"In this notebook, Data Science Tools and Ecosystem are summarized.\""
   ]
  },
  {
   "cell_type": "markdown",
   "id": "89c1396e-a6c0-4f69-bcc5-d89e40e1104f",
   "metadata": {},
   "source": [
    "**Objectives:**\n",
    "- List some of the popular languages used by data scientists\n",
    "- List some of the libraries commonly used by data scientists\n",
    "- Name some of the data science tools used by data scientists\n"
   ]
  },
  {
   "cell_type": "markdown",
   "id": "31921d8d-858f-4aa5-9d59-ad0046a6ec8d",
   "metadata": {},
   "source": [
    "Some of the popular languages that Data Scientists use are:\n",
    "1. Python\n",
    "2. R\n",
    "3. SQL"
   ]
  },
  {
   "cell_type": "markdown",
   "id": "2fcd7ce4-7762-4c42-a4ff-feff1d04d491",
   "metadata": {},
   "source": [
    "Some of the commonly used libraries used by Data Scientists include:\n",
    "1. pandas\n",
    "2. numpy\n",
    "3. seaborn"
   ]
  },
  {
   "cell_type": "markdown",
   "id": "d1067019-e8de-499d-ba6f-35e41806563b",
   "metadata": {},
   "source": [
    "|Data Science Tools|\n",
    "|-------------------|\n",
    "|Rstudio|\n",
    "|Jupyter Notebook|\n",
    "|Pycharm|\n"
   ]
  },
  {
   "cell_type": "markdown",
   "id": "347970a6-863d-4b8c-8078-a224695291a8",
   "metadata": {},
   "source": [
    "### Below are a few examples of evaluating arithmetic expressions in Python\n",
    "- 3*3 = 9\n",
    "- 9+1 = 10\n",
    "- 5-1 = 4"
   ]
  },
  {
   "cell_type": "code",
   "execution_count": 6,
   "id": "30ef3c00-972c-49fe-b52a-265e1499cc4d",
   "metadata": {
    "scrolled": true
   },
   "outputs": [
    {
     "data": {
      "text/plain": [
       "17"
      ]
     },
     "execution_count": 6,
     "metadata": {},
     "output_type": "execute_result"
    }
   ],
   "source": [
    "#This a simple arithmetic expression to multiply then add integers\n",
    "(3*4)+5"
   ]
  },
  {
   "cell_type": "code",
   "execution_count": 10,
   "id": "ccba20ec-851e-417e-9062-2c1fdc6530e3",
   "metadata": {},
   "outputs": [
    {
     "data": {
      "text/plain": [
       "20"
      ]
     },
     "execution_count": 10,
     "metadata": {},
     "output_type": "execute_result"
    }
   ],
   "source": [
    "#this will convert 200 minutes to hours by dividing by 60.\n",
    "200%60 "
   ]
  },
  {
   "cell_type": "markdown",
   "id": "73b449fa-f744-40bc-b8b9-dbb1b71b55d8",
   "metadata": {},
   "source": [
    "## Author\n",
    "Fatimah Motiwala"
   ]
  },
  {
   "cell_type": "code",
   "execution_count": null,
   "id": "10029650-a5a6-4f0f-af6b-b436fcf3ac2f",
   "metadata": {},
   "outputs": [],
   "source": []
  }
 ],
 "metadata": {
  "kernelspec": {
   "display_name": "Python 3 (ipykernel)",
   "language": "python",
   "name": "python3"
  },
  "language_info": {
   "codemirror_mode": {
    "name": "ipython",
    "version": 3
   },
   "file_extension": ".py",
   "mimetype": "text/x-python",
   "name": "python",
   "nbconvert_exporter": "python",
   "pygments_lexer": "ipython3",
   "version": "3.12.8"
  }
 },
 "nbformat": 4,
 "nbformat_minor": 5
}
